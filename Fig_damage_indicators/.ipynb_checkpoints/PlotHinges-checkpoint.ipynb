{
 "cells": [
  {
   "cell_type": "code",
   "execution_count": 3,
   "metadata": {},
   "outputs": [],
   "source": [
    "import sys\n",
    "sys.path.append(\"..\")\n",
    "from damage_indicator_module import*"
   ]
  },
  {
   "cell_type": "code",
   "execution_count": 4,
   "metadata": {},
   "outputs": [],
   "source": [
    "set_plot_formatting()"
   ]
  },
  {
   "cell_type": "markdown",
   "metadata": {},
   "source": [
    "#### INPUTS"
   ]
  },
  {
   "cell_type": "code",
   "execution_count": 5,
   "metadata": {},
   "outputs": [],
   "source": [
    "results_filename = '../0_Back_to_back_IDA_data/all_results_ID1012.h5'\n",
    "n_stories = 8\n",
    "inspector_type = 'Probabilistic'\n",
    "\n",
    "scales = np.array([0.2, 0.4, 0.5, 0.6, 0.7, 0.8, 0.9])"
   ]
  },
  {
   "cell_type": "markdown",
   "metadata": {},
   "source": [
    "#### Retrieve collapse fragilities per damage instance"
   ]
  },
  {
   "cell_type": "code",
   "execution_count": 6,
   "metadata": {},
   "outputs": [],
   "source": [
    "# Intact Collapse fragility\n",
    "key = 'intact_results/ida/collapse_fragilities'\n",
    "Savg_intact = pd.read_hdf(results_filename, key).loc['Sa_avg', 'Median']\n",
    "\n",
    "# results_filename = 'all_results_2020_02_20.h5'\n",
    "set_plot_formatting()   \n",
    "\n",
    "j = 0\n",
    "Savg_med_col = np.zeros([44*7])\n",
    "peak_drift_building = np.zeros([44*7,1])\n",
    "residual_drift_building = np.zeros([44*7,1])\n",
    "\n",
    "for gm_i in range(44):\n",
    "    gm_id = 'GM'+str(gm_i+1) \n",
    "\n",
    "    for scale in [0.2, 0.4, 0.5, 0.6, 0.7, 0.8, 0.9]:\n",
    "        key = '/mainshock_damage_results/' + gm_id + '/' + str(scale) + 'Col/ida/collapse_fragilities'\n",
    "        colFragility = pd.read_hdf(results_filename, key)\n",
    "        Savg_med_col[j] = colFragility.Median.Sa_avg\n",
    "\n",
    "        with h5py.File(results_filename, 'r') as hf:\n",
    "            damaged_gm_scale_group = '/mainshock_damage_results/' + gm_id + '/' + str(scale) + 'Col/mainshock_edp'\n",
    "            peak_story_drift = hf[damaged_gm_scale_group]['peak_story_drift'][:]\n",
    "            residual_story_drift = hf[damaged_gm_scale_group]['residual_story_drift'][:]\n",
    "            peak_drift_building[j] = max(abs(peak_story_drift))\n",
    "            residual_drift_building[j] = max(abs(residual_story_drift))\n",
    "        j = j + 1"
   ]
  },
  {
   "cell_type": "code",
   "execution_count": 7,
   "metadata": {},
   "outputs": [],
   "source": [
    "k = Savg_med_col/Savg_intact # Reduction in mean collapse capacity"
   ]
  },
  {
   "cell_type": "markdown",
   "metadata": {},
   "source": [
    "#### Plot damaged builidng"
   ]
  },
  {
   "cell_type": "code",
   "execution_count": 8,
   "metadata": {
    "scrolled": false
   },
   "outputs": [
    {
     "data": {
      "image/png": "[encoded data removed]",
      "text/plain": [
       "<Figure size 576x576 with 1 Axes>"
      ]
     },
     "metadata": {
      "needs_background": "light"
     },
     "output_type": "display_data"
    }
   ],
   "source": [
    "plot_scale = 10\n",
    "\n",
    "with h5py.File(results_filename, 'r') as hf:\n",
    "    # get building geometry\n",
    "    building_group = '/building_metadata'            \n",
    "    building_width = hf[building_group].attrs['building_width']\n",
    "    building_height = hf[building_group].attrs['building_height']\n",
    "    beam_geometry = hf[building_group]['beam_geometry'][:]\n",
    "    column_geometry = hf[building_group]['column_geometry'][:]\n",
    "    joints_x = hf[building_group]['joint_locations']['joints_x'][:]\n",
    "    joints_y = hf[building_group]['joint_locations']['joints_y'][:]\n",
    "\n",
    "    # Get hinge capacity    \n",
    "    building_group = '/building_metadata' \n",
    "    hinge_yield_rotation_positive = hf[building_group]['hinge_yield_rotation_positive'][:]\n",
    "    hinge_cap_rotation_positive = hf[building_group]['hinge_cap_rotation_positive'][:]\n",
    "    hinge_ultimate_rotation_positive = hf[building_group]['hinge_ultimate_rotation_positive'][:]\n",
    "    hinge_yield_rotation_negative = hf[building_group]['hinge_yield_rotation_negative'][:]\n",
    "    hinge_cap_rotation_negative = hf[building_group]['hinge_cap_rotation_negative'][:]\n",
    "    hinge_ultimate_rotation_negative = hf[building_group]['hinge_ultimate_rotation_negative'][:]            \n",
    "                \n",
    "\n",
    "for gm_id in ['GM8']:\n",
    "    \n",
    "    fig = plt.figure(figsize=(8,8))\n",
    "    plot_i = 0 \n",
    "\n",
    "    for scale in [0.8]:\n",
    "        \n",
    "        ax = plt.subplot2grid((1, 2), (0, plot_i), rowspan=1, colspan=1)\n",
    "\n",
    "        with h5py.File(results_filename, 'r') as hf:\n",
    "            damaged_gm_scale_group = '/mainshock_damage_results/' + gm_id + '/' + str(scale) + 'Col/mainshock_edp'\n",
    "    \n",
    "            # Get displacement and drift demands\n",
    "            displacement = hf[damaged_gm_scale_group]['story_displacement_time_history'][:]\n",
    "            peak_story_drift = hf[damaged_gm_scale_group]['peak_story_drift'][:]\n",
    "            residual_story_drift = hf[damaged_gm_scale_group]['residual_story_drift'][:]\n",
    "            peak_drift_building = max(peak_story_drift)\n",
    "            \n",
    "            # Get hinges rotations at time desired\n",
    "            building_group = '/mainshock_damage_results'\n",
    "            damaged_gm_scale_group = '/mainshock_damage_results/' + gm_id + '/' + str(scale) + 'Col/mainshock_edp'           \n",
    "            peak_joint_pos = hf[damaged_gm_scale_group]['peak_joint_rotations_pos']\n",
    "            peak_joint_neg = hf[damaged_gm_scale_group]['peak_joint_rotations_neg']            \n",
    "                        \n",
    "            # Compute DI based on hinge demands         \n",
    "            FDI, DI, _, _, _ = compute_building_DI(peak_joint_pos,peak_joint_neg, hinge_yield_rotation_positive,\\\n",
    "                        hinge_cap_rotation_positive, hinge_yield_rotation_negative, hinge_cap_rotation_negative, inspector_type)        \n",
    "            \n",
    "            # Get index for plot: at end of the record            \n",
    "            t_peak = np.argwhere(abs(displacement[0,:]) == max(abs(displacement[0,:])))[0]\n",
    "            t_residual = len(displacement[0,:]) - 1\n",
    "            \n",
    "            # Plot intact frame\n",
    "            plot_building_at_t(1, displacement, column_geometry, beam_geometry, plot_scale, \n",
    "                               'darkgray', '-', ax)\n",
    "            \n",
    "            # Plot frame at residual deformation\n",
    "            plot_building_at_t(t_residual, displacement, column_geometry, beam_geometry, \n",
    "                               plot_scale, 'k', '-', ax)\n",
    "        \n",
    "            # Plot color coded hinges\n",
    "            plot_hinges_prob(t_residual, displacement, joints_x, joints_y, plot_scale, peak_joint_pos, peak_joint_neg,\n",
    "                    hinge_yield_rotation_positive, hinge_cap_rotation_positive, hinge_yield_rotation_negative,\n",
    "                    hinge_cap_rotation_negative, ax)\n",
    "            \n",
    "            # Plot FDI next to each floor            \n",
    "            yCol = column_geometry[0:80:4,0,1]\n",
    "            yCol = np.append(yCol,yCol[-1]+180)\n",
    "            floor_i = 0\n",
    "            for floor_i in range(n_stories + 1):\n",
    "                Text = str(np.round(FDI[floor_i],2))\n",
    "                if abs(FDI[floor_i]) == max(abs(FDI)):\n",
    "                    ax = plt.text(1000,yCol[floor_i],Text,fontsize=12, color = 'red')\n",
    "                else:\n",
    "                    ax = plt.text(1000,yCol[floor_i],Text,fontsize=12)\n",
    "            \n",
    "            #  Plot residual_story_drift next to each story            \n",
    "            yCol = column_geometry[0:80:4,0,1] + 50\n",
    "            floor_i = 0\n",
    "            for floor_i in range(n_stories):\n",
    "                Text = str(np.round(residual_story_drift[floor_i]*100,1)) + '%'\n",
    "                if abs(residual_story_drift[floor_i]) == max(abs(residual_story_drift)):\n",
    "                    ax = plt.text(-500,yCol[floor_i],Text,fontsize=12, color = 'red')\n",
    "                else:\n",
    "                    ax = plt.text(-500,yCol[floor_i],Text,fontsize=12)\n",
    "                \n",
    "            # Plot peak_story_drift next to each story            \n",
    "            yCol = column_geometry[0:80:4,0,1] + 50\n",
    "            floor_i = 0\n",
    "            for floor_i in range(n_stories):\n",
    "                Text = str(np.round(peak_story_drift[floor_i]*100,1)) + '%'\n",
    "                if abs(peak_story_drift[floor_i]) == max(abs(peak_story_drift)):\n",
    "                    ax = plt.text(-800,yCol[floor_i],Text,fontsize=12, color = 'red')\n",
    "                else:\n",
    "                    ax = plt.text(-800,yCol[floor_i],Text,fontsize=12)\n",
    "            \n",
    "            gm_idx_in_k = (int(gm_id[2:]) - 1)*7 + int(np.where(scales == scale)[0])            \n",
    "            title_text = gm_id + ' = ' + str(scale) + 'Col \\n $IDR_{peak}$ = ' + str(round(peak_drift_building,2)) + \\\n",
    "                        '\\n DI = ' + str(np.round(DI,2)) + '\\n $\\kappa$ = '+ str(round(k[gm_idx_in_k],3))\n",
    "            _ = plt.title(title_text)             \n",
    "        \n",
    "        plot_i = plot_i + 1\n",
    "    \n",
    "        plt.tight_layout()\n",
    "#         plt.show()\n",
    "\n",
    "        plt.savefig('deformed_shape.svg')"
   ]
  }
 ],
 "metadata": {
  "kernelspec": {
   "display_name": "Python 3",
   "language": "python",
   "name": "python3"
  },
  "language_info": {
   "codemirror_mode": {
    "name": "ipython",
    "version": 3
   },
   "file_extension": ".py",
   "mimetype": "text/x-python",
   "name": "python",
   "nbconvert_exporter": "python",
   "pygments_lexer": "ipython3",
   "version": "3.7.3"
  }
 },
 "nbformat": 4,
 "nbformat_minor": 2
}
